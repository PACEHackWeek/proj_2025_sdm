{
 "cells": [
  {
   "cell_type": "code",
   "execution_count": null,
   "id": "a20d1f71-0e3e-4d0c-bf11-a75dae596ba1",
   "metadata": {
    "scrolled": true
   },
   "outputs": [],
   "source": [
    "pip install shap"
   ]
  },
  {
   "cell_type": "code",
   "execution_count": 1,
   "id": "335275ec-b304-4bd8-b7f2-fcd51c042335",
   "metadata": {},
   "outputs": [
    {
     "name": "stdout",
     "output_type": "stream",
     "text": [
      "SHAP library not found. Please install it for Step 5: pip install shap\n",
      "XGBoost version: 2.1.4\n"
     ]
    }
   ],
   "source": [
    "# Step 0: Import necessary libraries\n",
    "# We'll need pandas for data manipulation, sklearn for data and splitting,\n",
    "# and of course xgboost itself.\n",
    "import pandas as pd\n",
    "import numpy as np\n",
    "import xgboost as xgb\n",
    "from sklearn.model_selection import train_test_split\n",
    "from sklearn.datasets import fetch_california_housing\n",
    "from sklearn.metrics import mean_squared_error\n",
    "import matplotlib.pyplot as plt\n",
    "\n",
    "# Optional: For advanced model interpretation (Step 5)\n",
    "try:\n",
    "    import shap\n",
    "except ImportError:\n",
    "    print(\"SHAP library not found. Please install it for Step 5: pip install shap\")\n",
    "    shap = None\n",
    "\n",
    "print(f\"XGBoost version: {xgb.__version__}\")"
   ]
  },
  {
   "cell_type": "code",
   "execution_count": 4,
   "id": "1a93a049-e03e-4a24-b62d-751fec00f6ae",
   "metadata": {},
   "outputs": [
    {
     "name": "stdout",
     "output_type": "stream",
     "text": [
      "\n",
      "--- Step 1: Creating and Preparing Fisheries Data ---\n",
      "Training data shape: (1600, 4)\n",
      "Validation data shape: (400, 4)\n",
      "Example features:\n",
      "      BottomTemp   Salinity       Depth  DayOfYear\n",
      "968    9.363260  34.629635  192.284270        130\n",
      "240   14.225962  33.562048  141.619322        131\n",
      "819    6.357564  30.499205   55.859543        133\n",
      "692    8.598935  28.069467   81.936491         74\n",
      "420   12.290528  29.120175   37.716354        111\n"
     ]
    }
   ],
   "source": [
    "# --- Step 1: Data Preparation ---\n",
    "# Instead of a housing dataset, we'll create a synthetic fisheries dataset.\n",
    "# Our goal is to predict fish abundance (Catch Per Unit Effort - CPUE)\n",
    "# based on common environmental variables from a trawl survey.\n",
    "\n",
    "def create_fisheries_data(n_samples=2000):\n",
    "    \"\"\"Generates a synthetic dataset for predicting fish CPUE.\"\"\"\n",
    "    np.random.seed(42)\n",
    "    \n",
    "    # Environmental Features\n",
    "    bottom_temp = np.random.uniform(2, 15, n_samples)\n",
    "    salinity = np.random.uniform(28, 35, n_samples)\n",
    "    depth = np.random.uniform(20, 200, n_samples)\n",
    "    day_of_year = np.random.randint(60, 150, n_samples) # March to May\n",
    "    \n",
    "    # Create a non-linear relationship between temperature and CPUE (dome-shaped)\n",
    "    # Fish have an optimal temperature range.\n",
    "    temp_effect = -0.1 * (bottom_temp - 8)**2\n",
    "    \n",
    "    # Other linear effects\n",
    "    salinity_effect = 0.05 * salinity\n",
    "    depth_effect = -0.01 * depth\n",
    "    \n",
    "    # Add some noise\n",
    "    noise = np.random.normal(0, 0.5, n_samples)\n",
    "    \n",
    "    # Calculate a base CPUE and ensure it's non-negative\n",
    "    base_cpue = 10 + temp_effect + salinity_effect + depth_effect + noise\n",
    "    base_cpue[base_cpue < 0] = 0\n",
    "    \n",
    "    # It's common practice to log-transform CPUE to handle zeros and skewness\n",
    "    y = np.log1p(base_cpue)\n",
    "    \n",
    "    X = pd.DataFrame({\n",
    "        'BottomTemp': bottom_temp,\n",
    "        'Salinity': salinity,\n",
    "        'Depth': depth,\n",
    "        'DayOfYear': day_of_year\n",
    "    })\n",
    "    \n",
    "    return X, y\n",
    "\n",
    "print(\"\\n--- Step 1: Creating and Preparing Fisheries Data ---\")\n",
    "X_df, y = create_fisheries_data()\n",
    "feature_names = X_df.columns.tolist()\n",
    "\n",
    "# Split data into training and validation sets. This is crucial for using\n",
    "# early stopping later on.\n",
    "X_train, X_val, y_train, y_val = train_test_split(X_df, y, test_size=0.2, random_state=42)\n",
    "\n",
    "print(f\"Training data shape: {X_train.shape}\")\n",
    "print(f\"Validation data shape: {X_val.shape}\")\n",
    "print(\"Example features:\\n\", X_train.head())"
   ]
  },
  {
   "cell_type": "code",
   "execution_count": 5,
   "id": "e9afaccd-06a8-4989-baa2-844f1157e44c",
   "metadata": {},
   "outputs": [
    {
     "name": "stdout",
     "output_type": "stream",
     "text": [
      "\n",
      "--- Step 2: Initializing the XGBoost Model ---\n",
      "Model initialized with parameters:\n",
      "{'objective': 'reg:squarederror', 'base_score': None, 'booster': None, 'callbacks': None, 'colsample_bylevel': None, 'colsample_bynode': None, 'colsample_bytree': 0.8, 'device': None, 'early_stopping_rounds': None, 'enable_categorical': False, 'eval_metric': 'rmse', 'feature_types': None, 'gamma': 0.1, 'grow_policy': None, 'importance_type': None, 'interaction_constraints': None, 'learning_rate': 0.05, 'max_bin': None, 'max_cat_threshold': None, 'max_cat_to_onehot': None, 'max_delta_step': None, 'max_depth': 5, 'max_leaves': None, 'min_child_weight': 1, 'missing': nan, 'monotone_constraints': None, 'multi_strategy': None, 'n_estimators': 1000, 'n_jobs': -1, 'num_parallel_tree': None, 'random_state': 42, 'reg_alpha': 0.005, 'reg_lambda': 1, 'sampling_method': None, 'scale_pos_weight': None, 'subsample': 0.8, 'tree_method': None, 'validate_parameters': None, 'verbosity': None}\n"
     ]
    }
   ],
   "source": [
    "# --- Step 2: Model Initialization (The `mgcv::gam` Analogy) ---\n",
    "# Here, we create an instance of the XGBoost model. This is like setting up\n",
    "# your gam() call with its parameters before you actually fit it to data.\n",
    "# We'll use XGBRegressor to predict the continuous log(CPUE+1) value.\n",
    "\n",
    "print(\"\\n--- Step 2: Initializing the XGBoost Model ---\")\n",
    "\n",
    "# Let's define the core parameters.\n",
    "# mgcv::gam(log_cpue ~ s(BottomTemp, k=10) + s(Depth, k=10), sp=c(0.1, 0.5), ...)\n",
    "# is analogous to...\n",
    "xgb_reg = xgb.XGBRegressor(\n",
    "    # --- Boosting Parameters (How the model learns) ---\n",
    "    n_estimators=1000,         # Analogous to the \"richness\" of the model. Number of trees to build.\n",
    "                               # We set this high and use early stopping to find the optimal number.\n",
    "    learning_rate=0.05,        # Analogous to a shrinkage parameter. Lower values make the model more robust.\n",
    "\n",
    "    # --- Tree Complexity Parameters (Analogous to `k` and `sp`) ---\n",
    "    max_depth=5,               # Analogous to `k` in s(x, k=...). Controls max interaction depth.\n",
    "    min_child_weight=1,        # A form of regularization. Prevents learning highly specific patterns.\n",
    "    gamma=0.1,                 # Analogous to `sp`. A value > 0 penalizes splits, making the model more conservative.\n",
    "    subsample=0.8,             # Use 80% of data for building each tree. Adds randomness to fight overfitting.\n",
    "    colsample_bytree=0.8,      # Use 80% of features for building each tree. Also for overfitting.\n",
    "\n",
    "    # --- Regularization Parameters (Directly analogous to `sp`) ---\n",
    "    reg_alpha=0.005,           # L1 regularization on leaf weights.\n",
    "    reg_lambda=1,              # L2 regularization on leaf weights.\n",
    "\n",
    "    # --- Technical Parameters ---\n",
    "    objective='reg:squarederror', # The loss function to optimize.\n",
    "    n_jobs=-1,                 # Use all available CPU cores.\n",
    "    random_state=42,           # For reproducibility.\n",
    "    eval_metric='rmse'         # Metric to monitor during training.\n",
    ")\n",
    "\n",
    "print(\"Model initialized with parameters:\")\n",
    "print(xgb_reg.get_params())"
   ]
  },
  {
   "cell_type": "code",
   "execution_count": 11,
   "id": "9d47a1c8-5417-4a92-b166-5465d04538f9",
   "metadata": {},
   "outputs": [
    {
     "name": "stdout",
     "output_type": "stream",
     "text": [
      "\n",
      "--- Step 3: Training the Model with Early Stopping ---\n",
      "Model training complete.\n",
      "Best iteration found: 992\n",
      "Best validation RMSE: 0.0582\n"
     ]
    }
   ],
   "source": [
    "print(\"\\n--- Step 3: Training the Model with Early Stopping ---\")\n",
    "\n",
    "# The `eval_set` is used for early stopping.\n",
    "# XGBoost will calculate the RMSE on the validation set after each tree is added.\n",
    "# If the RMSE doesn't improve for `early_stopping_rounds`, training stops.\n",
    "xgb_reg.fit(X_train, y_train,\n",
    "            eval_set=[(X_val, y_val)],\n",
    "            verbose=False) # Set verbose=True to see the training progress\n",
    "\n",
    "print(f\"Model training complete.\")\n",
    "# FIX: Access the evaluation results dictionary which is always available.\n",
    "# The .best_iteration and .best_score attributes are only set if early stopping\n",
    "# is actually triggered. This is a more robust way to get the results.\n",
    "results = xgb_reg.evals_result()\n",
    "best_iteration = np.argmin(results['validation_0']['rmse'])\n",
    "best_score = results['validation_0']['rmse'][best_iteration]\n",
    "\n",
    "print(f\"Best iteration found: {best_iteration}\")\n",
    "print(f\"Best validation RMSE: {best_score:.4f}\")"
   ]
  },
  {
   "cell_type": "code",
   "execution_count": 12,
   "id": "5ebe88af-ce54-4153-94e1-07721e7db856",
   "metadata": {},
   "outputs": [
    {
     "name": "stdout",
     "output_type": "stream",
     "text": [
      "\n",
      "--- Step 4: Making Predictions ---\n",
      "Final RMSE on validation data: 0.0582\n"
     ]
    }
   ],
   "source": [
    "# --- Step 4: Making Predictions ---\n",
    "# This is straightforward, just like `predict.gam`.\n",
    "# The model automatically uses the optimal number of trees found during early stopping.\n",
    "\n",
    "print(\"\\n--- Step 4: Making Predictions ---\")\n",
    "predictions = xgb_reg.predict(X_val)\n",
    "\n",
    "# Evaluate the model\n",
    "rmse = np.sqrt(mean_squared_error(y_val, predictions))\n",
    "print(f\"Final RMSE on validation data: {rmse:.4f}\")"
   ]
  },
  {
   "cell_type": "code",
   "execution_count": 13,
   "id": "5c9caabf-44bb-410e-a0e4-79f784ae4005",
   "metadata": {},
   "outputs": [
    {
     "name": "stdout",
     "output_type": "stream",
     "text": [
      "\n",
      "--- Step 5: Interpreting the Model ---\n",
      "Plotting feature importance...\n"
     ]
    },
    {
     "data": {
      "image/png": "[encoded data removed]",
      "text/plain": [
       "<Figure size 1000x800 with 1 Axes>"
      ]
     },
     "metadata": {},
     "output_type": "display_data"
    },
    {
     "name": "stdout",
     "output_type": "stream",
     "text": [
      "\n",
      "Skipping SHAP plots as the 'shap' library is not installed.\n"
     ]
    }
   ],
   "source": [
    "\n",
    "\n",
    "# --- Step 5: Model Interpretation (The `mgcv::plot.gam` Analogy) ---\n",
    "# We can't plot smooths, but we can get powerful insights.\n",
    "\n",
    "print(\"\\n--- Step 5: Interpreting the Model ---\")\n",
    "\n",
    "# 5a. Feature Importance\n",
    "# This is like looking at the p-values in `summary.gam`. It tells you which\n",
    "# environmental variables the model used most to predict CPUE.\n",
    "print(\"Plotting feature importance...\")\n",
    "fig, ax = plt.subplots(figsize=(10, 8))\n",
    "xgb.plot_importance(xgb_reg, ax=ax, max_num_features=10, height=0.8, title=\"Feature Importance\")\n",
    "plt.tight_layout()\n",
    "plt.show()\n",
    "\n",
    "\n",
    "# 5b. SHAP Values (Advanced but powerful!)\n",
    "# This is the modern equivalent of partial dependence plots or `plot.gam`.\n",
    "# It explains *how* each feature impacts the prediction for every single survey point.\n",
    "if shap:\n",
    "    print(\"\\nCalculating and plotting SHAP values...\")\n",
    "    # Create a SHAP explainer object\n",
    "    explainer = shap.TreeExplainer(xgb_reg)\n",
    "\n",
    "    # Calculate SHAP values for the validation set\n",
    "    shap_values = explainer.shap_values(X_val)\n",
    "\n",
    "    # Summary plot: Shows the distribution of impacts for each feature.\n",
    "    # Red means high feature value, blue means low.\n",
    "    # Points to the right increase the prediction, points to the left decrease it.\n",
    "    shap.summary_plot(shap_values, X_val, plot_type=\"dot\", show=False)\n",
    "    plt.title(\"SHAP Summary Plot for Fisheries Data\")\n",
    "    plt.tight_layout()\n",
    "    plt.show()\n",
    "\n",
    "    # Dependence plot: Shows the effect of a single feature across the whole dataset.\n",
    "    # This is the closest thing to a partial effect plot from a GAM.\n",
    "    # It shows how the predicted log(CPUE+1) changes as 'BottomTemp' changes.\n",
    "    # We can clearly see the dome-shaped relationship we created!\n",
    "    shap.dependence_plot(\"BottomTemp\", shap_values, X_val, show=False)\n",
    "    plt.title(\"SHAP Dependence Plot for Bottom Temperature\")\n",
    "    plt.tight_layout()\n",
    "    plt.show()\n",
    "else:\n",
    "    print(\"\\nSkipping SHAP plots as the 'shap' library is not installed.\")"
   ]
  },
  {
   "cell_type": "code",
   "execution_count": null,
   "id": "c949a4eb-8d3f-499d-9109-f45a6db1334e",
   "metadata": {},
   "outputs": [],
   "source": []
  }
 ],
 "metadata": {
  "kernelspec": {
   "display_name": "Python 3 (ipykernel)",
   "language": "python",
   "name": "python3"
  },
  "language_info": {
   "codemirror_mode": {
    "name": "ipython",
    "version": 3
   },
   "file_extension": ".py",
   "mimetype": "text/x-python",
   "name": "python",
   "nbconvert_exporter": "python",
   "pygments_lexer": "ipython3",
   "version": "3.11.11"
  }
 },
 "nbformat": 4,
 "nbformat_minor": 5
}
