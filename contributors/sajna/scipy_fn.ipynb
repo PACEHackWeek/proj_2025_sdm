{
 "cells": [
  {
   "cell_type": "code",
   "execution_count": null,
   "id": "2539d641-637d-431b-b6b0-8e64eac53541",
   "metadata": {},
   "outputs": [],
   "source": [
    "import geopandas as gpd\n",
    "import pandas as pd\n",
    "import xarray as xr\n",
    "import numpy as np\n",
    "from scipy.spatial import cKDTree"
   ]
  },
  {
   "cell_type": "code",
   "execution_count": 5,
   "id": "74d2ac3d-b3b8-4ed5-b637-6ed144d8ed31",
   "metadata": {},
   "outputs": [],
   "source": [
    "# Convert time columns to numeric (seconds since epoch)\n",
    "def to_epoch_seconds(dt_series):\n",
    "    return pd.to_datetime(dt_series).astype('int64') // 10**9\n",
    "\n",
    "def merge_nearest_4d(df1, df2, vars_to_add):\n",
    "    # Ensure columns exist and are numeric\n",
    "    for col in ['latitude', 'longitude', 'depth']:\n",
    "        gfd_csv[col] = pd.to_numeric(df1[col], errors='coerce')\n",
    "        df_nc[col] = pd.to_numeric(df2[col], errors='coerce')\n",
    "\n",
    "    gfd_csv['time'] = to_epoch_seconds(gfd_csv['time'])\n",
    "    df_nc['time'] = to_epoch_seconds(df_nc['time'])\n",
    "\n",
    "    # Build KDTree for df2\n",
    "    tree = cKDTree(df2[['latitude', 'longitude', 'depth', 'time_num']].values)\n",
    "    # Query nearest for all df1 points\n",
    "    distances, idxs = tree.query(df1[['latitude', 'longitude', 'depth', 'time_num']].values, k=1)\n",
    "    # Extract vars from df2 for matched rows\n",
    "    matched = df2.iloc[idxs][vars_to_add].reset_index(drop=True)\n",
    "    # Concatenate results\n",
    "    result = pd.concat([df1.reset_index(drop=True), matched], axis=1)\n",
    "    return result\n",
    "\n",
    "# Example usage:\n",
    "# df1 = ...  # your main dataframe\n",
    "# df2 = ...  # dataframe with variables to add\n",
    "# vars_to_add = ['thetao', 'so', 'bottomT']  # columns from df2 to bring into df1\n",
    "\n",
    "# merged_df = merge_nearest_4d(df1, df2, vars_to_add)"
   ]
  }
 ],
 "metadata": {
  "kernelspec": {
   "display_name": "Python 3 (ipykernel)",
   "language": "python",
   "name": "python3"
  },
  "language_info": {
   "codemirror_mode": {
    "name": "ipython",
    "version": 3
   },
   "file_extension": ".py",
   "mimetype": "text/x-python",
   "name": "python",
   "nbconvert_exporter": "python",
   "pygments_lexer": "ipython3",
   "version": "3.11.11"
  }
 },
 "nbformat": 4,
 "nbformat_minor": 5
}
