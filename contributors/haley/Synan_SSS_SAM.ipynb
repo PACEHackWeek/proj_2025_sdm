{
 "cells": [
  {
   "cell_type": "markdown",
   "id": "08f50044-72fc-4df0-a697-71059f55a124",
   "metadata": {
    "jp-MarkdownHeadingCollapsed": true
   },
   "source": [
    "# *WORKING file:* Species abundance model\n",
    "### Description:\n",
    "Create a tutorial for a marine species abundance model in python. This notebook was created at the PACE Hackweek 2025. Our use-case will be with [NOAA NEFSC bottom trawl](https://www.fisheries.noaa.gov/new-england-mid-atlantic/science-data/2025-spring-bottom-trawl-survey-completed-northeast) data, specifically longfin squid.\n",
    "\n",
    "\n",
    "![longfin squid!](https://img.freepik.com/free-vector/hand-drawn-squid-illustration_23-2149560574.jpg?semt=ais_hybrid&w=740&q=80)\n",
    "### Authors: \n",
    "* Haley Synan (NOAA Fisheries/IBSS)\n",
    "* Artem Dzhulai (URI)\n",
    "* Punya P\n",
    "* Natalie McCourt (UMBC)\n",
    "### History:\n",
    ">*8/4/25: notebook initialized*"
   ]
  },
  {
   "cell_type": "markdown",
   "id": "52e2f4c1-0fd2-4ff7-ac0c-711ad970fde8",
   "metadata": {},
   "source": [
    "# STEPS\n",
    "* [x] Get fisheries data\n",
    "* [ ] Choose explanatory variables\n",
    "* [ ] Match data\n",
    "* [ ] Run model (xgboost) "
   ]
  },
  {
   "cell_type": "code",
   "execution_count": null,
   "id": "733003fa-459a-4f6f-9eff-e0e0b3544f36",
   "metadata": {},
   "outputs": [],
   "source": []
  }
 ],
 "metadata": {
  "kernelspec": {
   "display_name": "Python 3 (ipykernel)",
   "language": "python",
   "name": "python3"
  },
  "language_info": {
   "codemirror_mode": {
    "name": "ipython",
    "version": 3
   },
   "file_extension": ".py",
   "mimetype": "text/x-python",
   "name": "python",
   "nbconvert_exporter": "python",
   "pygments_lexer": "ipython3",
   "version": "3.11.11"
  }
 },
 "nbformat": 4,
 "nbformat_minor": 5
}
