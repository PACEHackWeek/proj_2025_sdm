{
 "cells": [
  {
   "cell_type": "markdown",
   "id": "7dea0a3f-6cdd-4b7f-aba1-e185079e7aa9",
   "metadata": {},
   "source": [
    "def match_nearest(df, ds, var, new_name=var, date=None):\n",
    "    try:\n",
    "        data = data.rename(columns={'lat':'latitude','lon':'longitude'})\n",
    "    except:\n",
    "        pass\n",
    "    try:\n",
    "        d = []\n",
    "        for i in range(0, len(df)):\n",
    "            # Crop the dataset to include data that corresponds to track locations\n",
    "            cropped_ds = ds[var].sel(time=df.date[i],\n",
    "                                           latitude=df.latitude[i],\n",
    "                                           longitude=df.longitude[i],\n",
    "                                           method='nearest'\n",
    "                                           )\n",
    "            d.append(cropped_ds.values)\n",
    "        df.insert(0,new_name,d)\n",
    "        return df\n",
    "    except:\n",
    "        d = []\n",
    "        for i in range(0, len(df)):\n",
    "            # Crop the dataset to include data that corresponds to track locations\n",
    "            cropped_ds = ds[var].sel(latitude=df.latitude[i],\n",
    "                                           longitude=df.longitude[i],\n",
    "                                           method='nearest'\n",
    "                                           )\n",
    "            d.append(cropped_ds.values)\n",
    "        df.insert(0,new_name,d)\n",
    "        return df\n"
   ]
  }
 ],
 "metadata": {
  "kernelspec": {
   "display_name": "Bash",
   "language": "bash",
   "name": "bash"
  },
  "language_info": {
   "codemirror_mode": "shell",
   "file_extension": ".sh",
   "mimetype": "text/x-sh",
   "name": "bash"
  }
 },
 "nbformat": 4,
 "nbformat_minor": 5
}
