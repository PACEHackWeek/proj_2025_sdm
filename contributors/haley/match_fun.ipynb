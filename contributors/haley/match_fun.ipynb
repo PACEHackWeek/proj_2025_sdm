{
 "cells": [
  {
   "cell_type": "code",
   "execution_count": null,
   "id": "a49f0d1b-c8da-43c1-998b-1586764e1702",
   "metadata": {},
   "outputs": [],
   "source": [
    "var = 'avw'\n",
    "def match_nearest(df, ds, var, new_name=var, date=None):\n",
    "    \"\"\"\n",
    "    PURPOSE: \n",
    "        Loop through each row of a dataframe and find the nearest neighbor matchup from a xarray dataset\n",
    "    INPUTS:\n",
    "        df (pandas dataframe): dataframe (base coordinates to match to)\n",
    "        ds (xarray dataset): xarray dataset to extract data from\n",
    "        var (str): variable name that you are matching (ex. chla or avw or Rrs_665)\n",
    "        new_name (str): Optional. variable name to add to original dataframe (ex chla_PACE). Default is original variable name\n",
    "        date (): Optional. Dates from the dataframe. NOTE the dtype of dataframe date and dtype of xarray date must be the same! \n",
    "    RETURNS:\n",
    "        df (pandas dataframe): original dataframe updated with a new column (new_name)\n",
    "    HISTORY:\n",
    "        2024: originally written (adapted from turtle track code)\n",
    "        8/5/25: updated for PACE HACKWEEK\n",
    "    \"\"\"  \n",
    "    try:\n",
    "        df = df.rename(columns={'LAT':'lat','LON':'lon'})\n",
    "        ds = ds\n",
    "    except:\n",
    "        pass\n",
    "    try:\n",
    "        d = []\n",
    "        for i in range(0, len(df)):\n",
    "            # Crop the dataset to include data that corresponds to track locations\n",
    "            cropped_ds = ds[var].sel(time=df.date[i],\n",
    "                                           lat=df.lat[i],\n",
    "                                           lon=df.lon[i],\n",
    "                                           method='nearest'\n",
    "                                           )\n",
    "            d.append(cropped_ds.values)\n",
    "        df.insert(0,new_name,d)\n",
    "        return df\n",
    "    except:\n",
    "        d = []\n",
    "        for i in range(0, len(df)):\n",
    "            # Crop the dataset to include data that corresponds to track locations\n",
    "            cropped_ds = ds[var].sel(lat=df.lat[i],\n",
    "                                           lon=df.lon[i],\n",
    "                                           method='nearest'\n",
    "                                           )\n",
    "            d.append(cropped_ds.values)\n",
    "        df.insert(0,new_name,d)\n",
    "        return df\n",
    "\n"
   ]
  },
  {
   "cell_type": "code",
   "execution_count": null,
   "id": "734b0063-375c-4c5a-ad11-1096af86bbda",
   "metadata": {},
   "outputs": [],
   "source": []
  }
 ],
 "metadata": {
  "kernelspec": {
   "display_name": "Bash",
   "language": "bash",
   "name": "bash"
  },
  "language_info": {
   "codemirror_mode": "shell",
   "file_extension": ".sh",
   "mimetype": "text/x-sh",
   "name": "bash"
  }
 },
 "nbformat": 4,
 "nbformat_minor": 5
}
