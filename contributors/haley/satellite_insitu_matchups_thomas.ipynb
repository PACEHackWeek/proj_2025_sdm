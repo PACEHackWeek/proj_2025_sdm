{
 "cells": [
  {
   "cell_type": "markdown",
   "id": "ab581621-81d6-46ed-b2df-942acabcb91a",
   "metadata": {},
   "source": [
    "# Matchups of in situ data with satellite data using the ThoMaS match-up toolkit\n",
    "**Authors:** Anna Windle (NASA, SSAI), James Allen (NASA, Morgan State University), Juan Ignacio Gossn (EUMETSAT)\n",
    "<br> Notebook modified from Copernicus Marine Training Service [Jupyter Notebook](https://gitlab.eumetsat.int/eumetlab/oceans/ocean-training/sensors/learn-olci/-/blob/main/2_OLCI_advanced/2_4_OLCI_matchup_validation.ipynb?ref_type=heads#section2) developed by Ben Loveday (EUMETSAT/Innoflair UG), Hayley Evers-King (EUMETSAT), Juan Ignacio-Gossn (EUMETSAT)\n",
    "\n",
    "## Summary\n",
    "\n",
    "In this example we will conduct matchups of in situ data with PACE OCI satellite data using the ThoMaS (Tool to generate Matchups for OC products with Sentinel-3/OLCI) package. This package provides a comprehensive set of tools to help with the validation of satellite products, supporting many common workflows including:\n",
    "\n",
    "* satellite data acquisition\n",
    "* mini file extraction\n",
    "* in situ data management\n",
    "* bidirectional reflectance distribution function (BRDF) correction\n",
    "\n",
    "ThoMaS is written in Python and is made available through a [EUMETSAT Gitlab repository](https://gitlab.eumetsat.int/eumetlab/oceans/ocean-science-studies/ThoMaS). The package can be used from the command line, or imported as a Python library, as done here. This notebook contains an example of how to use ThoMaS, but the capability shown is not exhaustive. Many more command-line examples are included in the repository, and we encourage users to familiarise themselves with both the [project README](https://gitlab.eumetsat.int/eumetlab/oceans/ocean-science-studies/ThoMaS/-/blob/main/README.md) and  [example README](https://gitlab.eumetsat.int/eumetlab/oceans/ocean-science-studies/ThoMaS/-/blob/main/README_examples.md) for more information.\n",
    "\n",
    "## Learning Objectives\n",
    "\n",
    "At the end of this notebook you will know:\n",
    "\n",
    "* How to create a configuration file for the ThoMaS matchup toolkit\n",
    "* How to run ThoMaS for a full matchup exercise: satellite extractions + minifiles + extraction statistics + matchup statistics\n",
    "* Use standard matchup protocols to apply statistics and plot matchup data\n",
    "\n",
    "## Contents \n",
    "\n",
    "1. [Setup](#1.-Setup)\n",
    "2. [Create configuration file for ThoMaS](#2.-Create-configuration-file-for-ThoMaS)\n",
    "3. [Run ThoMaS](#3.-Run-ThoMaS)"
   ]
  },
  {
   "cell_type": "markdown",
   "id": "2f2b0ec9-4fec-46d7-be88-9002619343f4",
   "metadata": {},
   "source": [
    "## 1. Setup\n",
    "\n",
    "Begin by importing all of the packages used in this notebook. "
   ]
  },
  {
   "cell_type": "code",
   "execution_count": 1,
   "id": "cd38fb19-f6a2-4097-bffe-652d88b08c74",
   "metadata": {},
   "outputs": [],
   "source": [
    "import sys\n",
    "import os"
   ]
  },
  {
   "cell_type": "markdown",
   "id": "9f36bd6d-79e5-47ab-93ea-545e6d50afbe",
   "metadata": {},
   "source": [
    "We also need to retrieve the toolkit itself. For the hackweek, we have already saved the ThoMaS toolkit under `shared/pace-hackweek-2024/lib/ThoMaS`.\n",
    "\n",
    "ThoMaS can be used from the [command line](https://gitlab.eumetsat.int/eumetlab/oceans/ocean-science-studies/ThoMaS/-/blob/main/README_examples.md), but here we will use it as a Python library. Lets import ThoMaS into our notebook."
   ]
  },
  {
   "cell_type": "code",
   "execution_count": 2,
   "id": "180dd42b-8828-4f95-9c17-9225fe6e6de4",
   "metadata": {},
   "outputs": [
    {
     "ename": "ModuleNotFoundError",
     "evalue": "No module named 'main'",
     "output_type": "error",
     "traceback": [
      "\u001b[0;31m---------------------------------------------------------------------------\u001b[0m",
      "\u001b[0;31mModuleNotFoundError\u001b[0m                       Traceback (most recent call last)",
      "Cell \u001b[0;32mIn[2], line 2\u001b[0m\n\u001b[1;32m      1\u001b[0m sys\u001b[38;5;241m.\u001b[39mpath\u001b[38;5;241m.\u001b[39minsert(\u001b[38;5;241m1\u001b[39m, \u001b[38;5;124m'\u001b[39m\u001b[38;5;124mshared/pace-hackweek-2024/lib/ThoMaS\u001b[39m\u001b[38;5;124m'\u001b[39m)\n\u001b[0;32m----> 2\u001b[0m \u001b[38;5;28;01mfrom\u001b[39;00m\u001b[38;5;250m \u001b[39m\u001b[38;5;21;01mmain\u001b[39;00m\u001b[38;5;250m \u001b[39m\u001b[38;5;28;01mimport\u001b[39;00m ThoMaS_main \u001b[38;5;28;01mas\u001b[39;00m ThoMaS\n",
      "\u001b[0;31mModuleNotFoundError\u001b[0m: No module named 'main'"
     ]
    }
   ],
   "source": [
    "sys.path.insert(1, 'shared/pace-hackweek-2024/lib/ThoMaS')\n",
    "from main import ThoMaS_main as ThoMaS"
   ]
  },
  {
   "cell_type": "markdown",
   "id": "7a723300-a91c-48a8-b359-175e805b3788",
   "metadata": {},
   "source": [
    "We also need to save our Earthdata login credentials in our home directory.\n",
    "\n",
    "Copy your username and password and store them in a JSON file under\n",
    "`~/.obpg_credentials.json` (~ stands for your home directory)\" <br>\n",
    "{\"username\": \"john.doe\", \"password\": \"jd_1234\"}"
   ]
  },
  {
   "cell_type": "markdown",
   "id": "a17a48f3",
   "metadata": {},
   "source": [
    "[back to top](#Contents)"
   ]
  },
  {
   "cell_type": "markdown",
   "id": "fc4e7e4c-55c1-4362-b8d5-92b058432579",
   "metadata": {},
   "source": [
    "## 2. Create configuration file for ThoMaS\n",
    "\n",
    "In this example we will conduct matchups of in situ AERONET-OC Rrs data with PACE OCI Rrs data. The Aerosol Robotic Network (AERONET) was developed to sustain atmospheric studies at various scales with measurements from worldwide distributed autonomous sun-photometers. This has been extended to support marine applications, called AERONET – Ocean Color [(AERONET-OC)](https://aeronet.gsfc.nasa.gov/new_web/ocean_levels_versions.html), and provides the additional capability of measuring the radiance emerging from the sea (i.e., water-leaving radiance) with modified sun-photometers installed on offshore platforms like lighthouses, oceanographic and oil towers. AERONET-OC is instrumental in satellite ocean color validation activities. \n",
    "\n",
    "In this tutorial, we will be collecting Rrs data from the Casablanca Platform AERONET-OC site located at 40.7N, 1.4W in the western Mediterranean Sea which is typically characterized as oligotrophic/mesotrophic (ocean color signals tend to strongly covary with chlorophyll a). \n",
    "\n",
    "Below are our requirements for this workflow:\n",
    "1. I want to test the performance of PACE OCI at the AERONET-OC station Casablanca_Platform during July 2024.\n",
    "2. I wish to get matchups between this Casablanca_Platform subset and PACE/OCI Rrs using the standard extraction protocol from [Bailey and Werdell, 2006](https://oceancolor.gsfc.nasa.gov/staff/jeremy/bailey_and_werdell_2006_rse.pdf), using an extraction window of 5x5.\n",
    "3. I want to apply the [Lee et al. 2011](https://doi.org/10.1364/AO.50.003155) BRDF correction to both satellite and in situ data.\n",
    "4. Store all outputs in the \"Casablanca_Platform\" directory. \n"
   ]
  },
  {
   "cell_type": "markdown",
   "id": "6aa1c759-30a5-46da-b1eb-bedbdb7973f5",
   "metadata": {},
   "source": [
    "Let's define a quick function that helps us to write our configuration options to a file."
   ]
  },
  {
   "cell_type": "code",
   "execution_count": null,
   "id": "ef5833c7-a489-46ef-86a2-9fead8411c02",
   "metadata": {},
   "outputs": [],
   "source": [
    "# Write config_params sections into config_file.ini\n",
    "def write_config_file(path_to_config_file,config_params):\n",
    "    with open(path_to_config_file, 'w') as text_file:\n",
    "        for section,section_params in config_params.items():\n",
    "            text_file.write('\\n[%s]\\n' % (section))\n",
    "            for param, value in section_params.items():\n",
    "                text_file.write('%s: %s\\n' % (param, value))"
   ]
  },
  {
   "cell_type": "markdown",
   "id": "a2b379fe-8057-4fd2-ba5f-aeb6ce8564de",
   "metadata": {},
   "source": [
    "Let's first define and create the pathto our main output directory"
   ]
  },
  {
   "cell_type": "code",
   "execution_count": null,
   "id": "11509658-e207-4876-8468-49c2309c0395",
   "metadata": {},
   "outputs": [],
   "source": [
    "output_path = os.path.join(os.getcwd(), \"Casablanca_Platform\")\n",
    "if not os.path.exists(output_path):\n",
    "    os.mkdir(output_path)"
   ]
  },
  {
   "cell_type": "markdown",
   "id": "f74f9fb5-d60e-41ff-b84a-405b0d929de2",
   "metadata": {},
   "source": [
    "Let's now define out configuration file."
   ]
  },
  {
   "cell_type": "code",
   "execution_count": null,
   "id": "272b5c06-2e07-435f-808a-980139650097",
   "metadata": {},
   "outputs": [],
   "source": [
    "path_to_config_file = os.path.join(output_path, 'config_file.ini')\n",
    "config_params = {}\n",
    "\n",
    "# global\n",
    "config_params['global'] = {}\n",
    "config_params['global']['path_output'] = output_path\n",
    "config_params['global']['SetID'] = 'Casablanca_Platform'\n",
    "config_params['global']['workflow'] = 'insitu, SatData, minifiles, EDB, MDB'\n",
    "\n",
    "\n",
    "# AERONETOC\n",
    "config_params['AERONETOC'] = {}\n",
    "config_params['AERONETOC']['AERONETOC_pathRaw'] = os.path.join(output_path, 'Casablanca_Platform', 'AERONET_OC_raw')\n",
    "config_params['AERONETOC']['AERONETOC_dateStart'] = '2024-03-01T00:00:00'\n",
    "config_params['AERONETOC']['AERONETOC_dateEnd'] = '2024-08-01T00:00:00'\n",
    "config_params['AERONETOC']['AERONETOC_dataLevel'] = 1.5\n",
    "config_params['AERONETOC']['AERONETOC_station'] = 'Casablanca_Platform'\n",
    "\n",
    "# insitu\n",
    "config_params['insitu'] = {}\n",
    "config_params['insitu']['insitu_data2OCDBfile'] = 'AERONETOC'\n",
    "config_params['insitu']['insitu_input'] = os.path.join(output_path, 'Casablanca_Platform_OCDB.csv')\n",
    "config_params['insitu']['insitu_satelliteTimeToleranceSeconds'] = 3600\n",
    "config_params['insitu']['insitu_getAncillary'] = False \n",
    "config_params['insitu']['insitu_BRDF'] = 'M02' \n",
    "\n",
    "# satellite\n",
    "config_params['satellite'] = {}\n",
    "config_params['satellite']['satellite_path-to-SatData'] = os.path.join(output_path, 'SatData')\n",
    "config_params['satellite']['satellite_source'] = 'NASA_OBPG'\n",
    "config_params['satellite']['satellite_collections'] = 'operational'\n",
    "config_params['satellite']['satellite_platforms'] = 'PACE'\n",
    "config_params['satellite']['satellite_resolutions'] = 'FR'\n",
    "config_params['satellite']['satellite_BRDF'] = 'M02'\n",
    "\n",
    "# minifiles\n",
    "config_params['minifiles'] = {}\n",
    "config_params['minifiles']['minifiles_winSize'] = 5\n",
    "\n",
    "# EDB\n",
    "config_params['EDB'] = {}\n",
    "config_params['EDB']['EDB_protocols_L2'] = 'Bailey_and_Werdell_2006'\n",
    "config_params['EDB']['EDB_winSizes'] = 5\n",
    "\n",
    "# MDB\n",
    "config_params['MDB'] = {}\n",
    "config_params['MDB']['MDB_time-interpolation'] = 'insitu2satellite_NN'\n",
    "config_params['MDB']['MDB_stats_plots'] = True\n",
    "config_params['MDB']['MDB_stats_protocol'] = 'EUMETSAT_standard_L2'\n",
    "\n",
    "# Write config_params sections into config_file.ini\n",
    "write_config_file(path_to_config_file, config_params)"
   ]
  },
  {
   "cell_type": "markdown",
   "id": "51b2104d-2666-48e2-a326-f64747924eaa",
   "metadata": {},
   "source": [
    "[back to top](#Contents)"
   ]
  },
  {
   "cell_type": "markdown",
   "id": "91154c2d-ec66-49b0-b4a9-c5b746b8de29",
   "metadata": {},
   "source": [
    "## 3. Run ThoMaS"
   ]
  },
  {
   "cell_type": "markdown",
   "id": "4b1051a7-1aee-48a0-9798-29058de97d33",
   "metadata": {},
   "source": [
    "Now, let's run this configuration and check our outputs"
   ]
  },
  {
   "cell_type": "code",
   "execution_count": null,
   "id": "4ec743a0-614b-4294-91bf-f8772bb32781",
   "metadata": {},
   "outputs": [],
   "source": [
    "ThoMaS(path_to_config_file)"
   ]
  },
  {
   "cell_type": "markdown",
   "id": "4069b10f-937b-41b7-a8f0-d5094f938b1e",
   "metadata": {},
   "source": [
    "If all went well, in our Casablanca_Platform directory you should now have several folders that contain the outputs from the ThoMaS analysis:\n",
    "* SatData contains the full downloaded products\n",
    "* SatDataLists contains information on the inventory of downloaded data\n",
    "* minifiles contains the extracted minifiles\n",
    "* minifilesLists contains information on the inventory of downloaded data\n",
    "* EDB, the most important folder, contains the results of the extractions we made from the minifiles.\n",
    "* Summary plots of matchups"
   ]
  },
  {
   "cell_type": "markdown",
   "id": "cb3f5269",
   "metadata": {},
   "source": [
    "[back to top](#Contents)"
   ]
  },
  {
   "cell_type": "code",
   "execution_count": null,
   "id": "753f6fcb-d4a6-481b-b145-4a3e2c79254f",
   "metadata": {},
   "outputs": [],
   "source": []
  }
 ],
 "metadata": {
  "kernelspec": {
   "display_name": "Python 3 (ipykernel)",
   "language": "python",
   "name": "python3"
  },
  "language_info": {
   "codemirror_mode": {
    "name": "ipython",
    "version": 3
   },
   "file_extension": ".py",
   "mimetype": "text/x-python",
   "name": "python",
   "nbconvert_exporter": "python",
   "pygments_lexer": "ipython3",
   "version": "3.11.11"
  }
 },
 "nbformat": 4,
 "nbformat_minor": 5
}
